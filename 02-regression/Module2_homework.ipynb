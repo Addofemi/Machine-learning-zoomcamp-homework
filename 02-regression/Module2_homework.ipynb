{
 "cells": [
  {
   "cell_type": "code",
   "execution_count": 1,
   "id": "a4c1bb54",
   "metadata": {},
   "outputs": [],
   "source": [
    "import requests\n",
    "import pandas as pd\n",
    "import numpy as np\n",
    "import matplotlib.pyplot as plt\n",
    "import seaborn as sns\n",
    "import sklearn\n",
    "from sklearn.model_selection import train_test_split\n",
    "from sklearn.linear_model import LinearRegression\n",
    "from sklearn.metrics import mean_squared_error, r2_score"
   ]
  },
  {
   "cell_type": "code",
   "execution_count": 2,
   "id": "00bb488b-faf3-4109-a3ea-097370df95ac",
   "metadata": {},
   "outputs": [],
   "source": [
    "df = pd.read_csv('https://raw.githubusercontent.com/alexeygrigorev/datasets/master/car_fuel_efficiency.csv')"
   ]
  },
  {
   "cell_type": "code",
   "execution_count": 3,
   "id": "ee34f87f-a179-4f3e-a1d1-a1204cf8fe46",
   "metadata": {},
   "outputs": [
    {
     "data": {
      "text/html": [
       "<div>\n",
       "<style scoped>\n",
       "    .dataframe tbody tr th:only-of-type {\n",
       "        vertical-align: middle;\n",
       "    }\n",
       "\n",
       "    .dataframe tbody tr th {\n",
       "        vertical-align: top;\n",
       "    }\n",
       "\n",
       "    .dataframe thead th {\n",
       "        text-align: right;\n",
       "    }\n",
       "</style>\n",
       "<table border=\"1\" class=\"dataframe\">\n",
       "  <thead>\n",
       "    <tr style=\"text-align: right;\">\n",
       "      <th></th>\n",
       "      <th>engine_displacement</th>\n",
       "      <th>num_cylinders</th>\n",
       "      <th>horsepower</th>\n",
       "      <th>vehicle_weight</th>\n",
       "      <th>acceleration</th>\n",
       "      <th>model_year</th>\n",
       "      <th>origin</th>\n",
       "      <th>fuel_type</th>\n",
       "      <th>drivetrain</th>\n",
       "      <th>num_doors</th>\n",
       "      <th>fuel_efficiency_mpg</th>\n",
       "    </tr>\n",
       "  </thead>\n",
       "  <tbody>\n",
       "    <tr>\n",
       "      <th>0</th>\n",
       "      <td>170</td>\n",
       "      <td>3.0</td>\n",
       "      <td>159.0</td>\n",
       "      <td>3413.433759</td>\n",
       "      <td>17.7</td>\n",
       "      <td>2003</td>\n",
       "      <td>Europe</td>\n",
       "      <td>Gasoline</td>\n",
       "      <td>All-wheel drive</td>\n",
       "      <td>0.0</td>\n",
       "      <td>13.231729</td>\n",
       "    </tr>\n",
       "    <tr>\n",
       "      <th>1</th>\n",
       "      <td>130</td>\n",
       "      <td>5.0</td>\n",
       "      <td>97.0</td>\n",
       "      <td>3149.664934</td>\n",
       "      <td>17.8</td>\n",
       "      <td>2007</td>\n",
       "      <td>USA</td>\n",
       "      <td>Gasoline</td>\n",
       "      <td>Front-wheel drive</td>\n",
       "      <td>0.0</td>\n",
       "      <td>13.688217</td>\n",
       "    </tr>\n",
       "    <tr>\n",
       "      <th>2</th>\n",
       "      <td>170</td>\n",
       "      <td>NaN</td>\n",
       "      <td>78.0</td>\n",
       "      <td>3079.038997</td>\n",
       "      <td>15.1</td>\n",
       "      <td>2018</td>\n",
       "      <td>Europe</td>\n",
       "      <td>Gasoline</td>\n",
       "      <td>Front-wheel drive</td>\n",
       "      <td>0.0</td>\n",
       "      <td>14.246341</td>\n",
       "    </tr>\n",
       "    <tr>\n",
       "      <th>3</th>\n",
       "      <td>220</td>\n",
       "      <td>4.0</td>\n",
       "      <td>NaN</td>\n",
       "      <td>2542.392402</td>\n",
       "      <td>20.2</td>\n",
       "      <td>2009</td>\n",
       "      <td>USA</td>\n",
       "      <td>Diesel</td>\n",
       "      <td>All-wheel drive</td>\n",
       "      <td>2.0</td>\n",
       "      <td>16.912736</td>\n",
       "    </tr>\n",
       "    <tr>\n",
       "      <th>4</th>\n",
       "      <td>210</td>\n",
       "      <td>1.0</td>\n",
       "      <td>140.0</td>\n",
       "      <td>3460.870990</td>\n",
       "      <td>14.4</td>\n",
       "      <td>2009</td>\n",
       "      <td>Europe</td>\n",
       "      <td>Gasoline</td>\n",
       "      <td>All-wheel drive</td>\n",
       "      <td>2.0</td>\n",
       "      <td>12.488369</td>\n",
       "    </tr>\n",
       "  </tbody>\n",
       "</table>\n",
       "</div>"
      ],
      "text/plain": [
       "   engine_displacement  num_cylinders  horsepower  vehicle_weight  \\\n",
       "0                  170            3.0       159.0     3413.433759   \n",
       "1                  130            5.0        97.0     3149.664934   \n",
       "2                  170            NaN        78.0     3079.038997   \n",
       "3                  220            4.0         NaN     2542.392402   \n",
       "4                  210            1.0       140.0     3460.870990   \n",
       "\n",
       "   acceleration  model_year  origin fuel_type         drivetrain  num_doors  \\\n",
       "0          17.7        2003  Europe  Gasoline    All-wheel drive        0.0   \n",
       "1          17.8        2007     USA  Gasoline  Front-wheel drive        0.0   \n",
       "2          15.1        2018  Europe  Gasoline  Front-wheel drive        0.0   \n",
       "3          20.2        2009     USA    Diesel    All-wheel drive        2.0   \n",
       "4          14.4        2009  Europe  Gasoline    All-wheel drive        2.0   \n",
       "\n",
       "   fuel_efficiency_mpg  \n",
       "0            13.231729  \n",
       "1            13.688217  \n",
       "2            14.246341  \n",
       "3            16.912736  \n",
       "4            12.488369  "
      ]
     },
     "execution_count": 3,
     "metadata": {},
     "output_type": "execute_result"
    }
   ],
   "source": [
    "df.head()"
   ]
  },
  {
   "cell_type": "markdown",
   "id": "672a4648-7db7-4d82-9358-20ea2fa1b7b3",
   "metadata": {},
   "source": [
    "**Preparing the dataset**\n",
    "\n",
    "Use only the following columns:\n",
    "\n",
    "* 'engine_displacement',\n",
    "* 'horsepower,'\n",
    "* 'vehicle_weight',\n",
    "* 'model_year',\n",
    "* 'fuel_efficiency_mpg'"
   ]
  },
  {
   "cell_type": "code",
   "execution_count": 4,
   "id": "889c364f-8481-4d60-8b0d-ea0e283ae03d",
   "metadata": {},
   "outputs": [
    {
     "data": {
      "text/plain": [
       "Index(['engine_displacement', 'num_cylinders', 'horsepower', 'vehicle_weight',\n",
       "       'acceleration', 'model_year', 'origin', 'fuel_type', 'drivetrain',\n",
       "       'num_doors', 'fuel_efficiency_mpg'],\n",
       "      dtype='object')"
      ]
     },
     "execution_count": 4,
     "metadata": {},
     "output_type": "execute_result"
    }
   ],
   "source": [
    "df.columns"
   ]
  },
  {
   "cell_type": "code",
   "execution_count": 5,
   "id": "d6e25e48-0cda-4a46-9d5c-9282a53159bf",
   "metadata": {},
   "outputs": [],
   "source": [
    "selected_columns = ['engine_displacement', 'horsepower', 'vehicle_weight', 'model_year', 'fuel_efficiency_mpg']\n",
    "df = df[selected_columns]"
   ]
  },
  {
   "cell_type": "code",
   "execution_count": 6,
   "id": "5840aa22-19e7-4448-9885-c689445d5bad",
   "metadata": {},
   "outputs": [
    {
     "data": {
      "text/html": [
       "<div>\n",
       "<style scoped>\n",
       "    .dataframe tbody tr th:only-of-type {\n",
       "        vertical-align: middle;\n",
       "    }\n",
       "\n",
       "    .dataframe tbody tr th {\n",
       "        vertical-align: top;\n",
       "    }\n",
       "\n",
       "    .dataframe thead th {\n",
       "        text-align: right;\n",
       "    }\n",
       "</style>\n",
       "<table border=\"1\" class=\"dataframe\">\n",
       "  <thead>\n",
       "    <tr style=\"text-align: right;\">\n",
       "      <th></th>\n",
       "      <th>engine_displacement</th>\n",
       "      <th>horsepower</th>\n",
       "      <th>vehicle_weight</th>\n",
       "      <th>model_year</th>\n",
       "      <th>fuel_efficiency_mpg</th>\n",
       "    </tr>\n",
       "  </thead>\n",
       "  <tbody>\n",
       "    <tr>\n",
       "      <th>0</th>\n",
       "      <td>170</td>\n",
       "      <td>159.0</td>\n",
       "      <td>3413.433759</td>\n",
       "      <td>2003</td>\n",
       "      <td>13.231729</td>\n",
       "    </tr>\n",
       "    <tr>\n",
       "      <th>1</th>\n",
       "      <td>130</td>\n",
       "      <td>97.0</td>\n",
       "      <td>3149.664934</td>\n",
       "      <td>2007</td>\n",
       "      <td>13.688217</td>\n",
       "    </tr>\n",
       "    <tr>\n",
       "      <th>2</th>\n",
       "      <td>170</td>\n",
       "      <td>78.0</td>\n",
       "      <td>3079.038997</td>\n",
       "      <td>2018</td>\n",
       "      <td>14.246341</td>\n",
       "    </tr>\n",
       "    <tr>\n",
       "      <th>3</th>\n",
       "      <td>220</td>\n",
       "      <td>NaN</td>\n",
       "      <td>2542.392402</td>\n",
       "      <td>2009</td>\n",
       "      <td>16.912736</td>\n",
       "    </tr>\n",
       "    <tr>\n",
       "      <th>4</th>\n",
       "      <td>210</td>\n",
       "      <td>140.0</td>\n",
       "      <td>3460.870990</td>\n",
       "      <td>2009</td>\n",
       "      <td>12.488369</td>\n",
       "    </tr>\n",
       "  </tbody>\n",
       "</table>\n",
       "</div>"
      ],
      "text/plain": [
       "   engine_displacement  horsepower  vehicle_weight  model_year  \\\n",
       "0                  170       159.0     3413.433759        2003   \n",
       "1                  130        97.0     3149.664934        2007   \n",
       "2                  170        78.0     3079.038997        2018   \n",
       "3                  220         NaN     2542.392402        2009   \n",
       "4                  210       140.0     3460.870990        2009   \n",
       "\n",
       "   fuel_efficiency_mpg  \n",
       "0            13.231729  \n",
       "1            13.688217  \n",
       "2            14.246341  \n",
       "3            16.912736  \n",
       "4            12.488369  "
      ]
     },
     "execution_count": 6,
     "metadata": {},
     "output_type": "execute_result"
    }
   ],
   "source": [
    "df.head()"
   ]
  },
  {
   "cell_type": "code",
   "execution_count": 7,
   "id": "7c653eb2-5031-4abf-96a7-38d2e95ccf5c",
   "metadata": {},
   "outputs": [
    {
     "data": {
      "text/plain": [
       "engine_displacement      int64\n",
       "horsepower             float64\n",
       "vehicle_weight         float64\n",
       "model_year               int64\n",
       "fuel_efficiency_mpg    float64\n",
       "dtype: object"
      ]
     },
     "execution_count": 7,
     "metadata": {},
     "output_type": "execute_result"
    }
   ],
   "source": [
    "df.dtypes"
   ]
  },
  {
   "cell_type": "markdown",
   "id": "6755c6a3-76ac-434e-bece-cf4336a46633",
   "metadata": {},
   "source": [
    "**EDA**\n",
    "* Look at the fuel_efficiency_mpg variable. Does it have a long tail?"
   ]
  },
  {
   "cell_type": "code",
   "execution_count": 8,
   "id": "5433e22b-6412-4a19-92f4-a6465129a0b5",
   "metadata": {},
   "outputs": [
    {
     "data": {
      "text/plain": [
       "<Axes: xlabel='fuel_efficiency_mpg', ylabel='Count'>"
      ]
     },
     "execution_count": 8,
     "metadata": {},
     "output_type": "execute_result"
    },
    {
     "data": {
      "image/png": "[encoded data removed]",
      "text/plain": [
       "<Figure size 640x480 with 1 Axes>"
      ]
     },
     "metadata": {},
     "output_type": "display_data"
    }
   ],
   "source": [
    "sns.histplot(df[\"fuel_efficiency_mpg\"])"
   ]
  },
  {
   "cell_type": "markdown",
   "id": "b70ed1e4-f991-476e-907a-0010128d7777",
   "metadata": {},
   "source": [
    "No it does not have a long tail"
   ]
  },
  {
   "cell_type": "markdown",
   "id": "285a0233-5883-49f1-92e3-d416b957d6f1",
   "metadata": {},
   "source": [
    "**Question 1**\n",
    "\n",
    "**There's one column with missing values. What is it?**\n",
    "\n",
    "* 'engine_displacement'\n",
    "* 'horsepower'\n",
    "* 'vehicle_weight'\n",
    "* 'model_year'"
   ]
  },
  {
   "cell_type": "code",
   "execution_count": 9,
   "id": "3e54a16e-5200-4bac-b91a-5346489a869e",
   "metadata": {},
   "outputs": [
    {
     "data": {
      "text/plain": [
       "engine_displacement      0\n",
       "horsepower             708\n",
       "vehicle_weight           0\n",
       "model_year               0\n",
       "fuel_efficiency_mpg      0\n",
       "dtype: int64"
      ]
     },
     "execution_count": 9,
     "metadata": {},
     "output_type": "execute_result"
    }
   ],
   "source": [
    "df.isnull().sum()"
   ]
  },
  {
   "cell_type": "markdown",
   "id": "3acd48b9-2e7e-4ccd-90b0-768ea50beb52",
   "metadata": {},
   "source": [
    "A1: Horsepower"
   ]
  },
  {
   "cell_type": "markdown",
   "id": "c943cdb7-06e8-4995-b7d1-222936c6ee0b",
   "metadata": {},
   "source": [
    "**Question 2**\n",
    "**What's the median (50% percentile) for variable 'horsepower'?**\n",
    "+ 49\n",
    "+ 99\n",
    "+ 149\n",
    "+ 199"
   ]
  },
  {
   "cell_type": "code",
   "execution_count": 10,
   "id": "3c8281e4-ca2a-405a-a3ce-dfbf589a5476",
   "metadata": {},
   "outputs": [
    {
     "data": {
      "text/plain": [
       "np.float64(149.0)"
      ]
     },
     "execution_count": 10,
     "metadata": {},
     "output_type": "execute_result"
    }
   ],
   "source": [
    "df['horsepower'].median()"
   ]
  },
  {
   "cell_type": "markdown",
   "id": "c6ba4562-40ab-4f10-b539-329e75c25231",
   "metadata": {},
   "source": [
    "A2: 149"
   ]
  },
  {
   "cell_type": "markdown",
   "id": "ed80b190-a317-4d9e-9fe5-584c970b9d90",
   "metadata": {},
   "source": [
    "**Prepare and split the dataset**\n",
    "+ Shuffle the dataset (the filtered one you created above), use seed 42.\n",
    "+ Split your data in train/val/test sets, with 60%/20%/20% distribution."
   ]
  },
  {
   "cell_type": "code",
   "execution_count": 11,
   "id": "727bdad4-ab6d-4824-a45c-be59b50a6897",
   "metadata": {},
   "outputs": [],
   "source": [
    "n = len(df)\n",
    "\n",
    "n_val = int(n * 0.2)\n",
    "n_test = int(n * 0.2)\n",
    "n_train = int(n * 0.6)"
   ]
  },
  {
   "cell_type": "code",
   "execution_count": 12,
   "id": "199d34c7-e3c2-414d-9185-c00b759b6ec7",
   "metadata": {},
   "outputs": [
    {
     "data": {
      "text/plain": [
       "(9704, 9702)"
      ]
     },
     "execution_count": 12,
     "metadata": {},
     "output_type": "execute_result"
    }
   ],
   "source": [
    "n, n_val + n_test + n_train"
   ]
  },
  {
   "cell_type": "code",
   "execution_count": 13,
   "id": "e4a0d028-b45b-4571-b0bc-81e685cedb9a",
   "metadata": {},
   "outputs": [],
   "source": [
    "np.random.seed(42)\n",
    "idx = np.arange(n)\n",
    "np.random.shuffle(idx)"
   ]
  },
  {
   "cell_type": "code",
   "execution_count": 14,
   "id": "83f25aca-1ad6-4d11-9c98-044bebc20628",
   "metadata": {},
   "outputs": [],
   "source": [
    "df_train = df.iloc[idx[:n_train]]\n",
    "df_val = df.iloc[idx[n_train: n_train + n_val]]\n",
    "df_test = df.iloc[idx[n_train + n_val:]]"
   ]
  },
  {
   "cell_type": "code",
   "execution_count": 15,
   "id": "5cd175d0-1d66-4462-b060-b21af63b2e17",
   "metadata": {},
   "outputs": [
    {
     "data": {
      "text/html": [
       "<div>\n",
       "<style scoped>\n",
       "    .dataframe tbody tr th:only-of-type {\n",
       "        vertical-align: middle;\n",
       "    }\n",
       "\n",
       "    .dataframe tbody tr th {\n",
       "        vertical-align: top;\n",
       "    }\n",
       "\n",
       "    .dataframe thead th {\n",
       "        text-align: right;\n",
       "    }\n",
       "</style>\n",
       "<table border=\"1\" class=\"dataframe\">\n",
       "  <thead>\n",
       "    <tr style=\"text-align: right;\">\n",
       "      <th></th>\n",
       "      <th>engine_displacement</th>\n",
       "      <th>horsepower</th>\n",
       "      <th>vehicle_weight</th>\n",
       "      <th>model_year</th>\n",
       "      <th>fuel_efficiency_mpg</th>\n",
       "    </tr>\n",
       "  </thead>\n",
       "  <tbody>\n",
       "    <tr>\n",
       "      <th>483</th>\n",
       "      <td>220</td>\n",
       "      <td>144.0</td>\n",
       "      <td>2535.887591</td>\n",
       "      <td>2009</td>\n",
       "      <td>16.642943</td>\n",
       "    </tr>\n",
       "    <tr>\n",
       "      <th>7506</th>\n",
       "      <td>160</td>\n",
       "      <td>141.0</td>\n",
       "      <td>2741.170484</td>\n",
       "      <td>2019</td>\n",
       "      <td>16.298377</td>\n",
       "    </tr>\n",
       "    <tr>\n",
       "      <th>8795</th>\n",
       "      <td>230</td>\n",
       "      <td>155.0</td>\n",
       "      <td>2471.880237</td>\n",
       "      <td>2017</td>\n",
       "      <td>18.591822</td>\n",
       "    </tr>\n",
       "    <tr>\n",
       "      <th>1688</th>\n",
       "      <td>150</td>\n",
       "      <td>206.0</td>\n",
       "      <td>3748.164469</td>\n",
       "      <td>2015</td>\n",
       "      <td>11.818843</td>\n",
       "    </tr>\n",
       "    <tr>\n",
       "      <th>6217</th>\n",
       "      <td>300</td>\n",
       "      <td>111.0</td>\n",
       "      <td>2135.716359</td>\n",
       "      <td>2006</td>\n",
       "      <td>19.402209</td>\n",
       "    </tr>\n",
       "    <tr>\n",
       "      <th>...</th>\n",
       "      <td>...</td>\n",
       "      <td>...</td>\n",
       "      <td>...</td>\n",
       "      <td>...</td>\n",
       "      <td>...</td>\n",
       "    </tr>\n",
       "    <tr>\n",
       "      <th>8387</th>\n",
       "      <td>160</td>\n",
       "      <td>111.0</td>\n",
       "      <td>3038.134712</td>\n",
       "      <td>2002</td>\n",
       "      <td>14.203076</td>\n",
       "    </tr>\n",
       "    <tr>\n",
       "      <th>7331</th>\n",
       "      <td>160</td>\n",
       "      <td>157.0</td>\n",
       "      <td>2877.624938</td>\n",
       "      <td>2006</td>\n",
       "      <td>15.278030</td>\n",
       "    </tr>\n",
       "    <tr>\n",
       "      <th>1696</th>\n",
       "      <td>260</td>\n",
       "      <td>139.0</td>\n",
       "      <td>2606.972984</td>\n",
       "      <td>2009</td>\n",
       "      <td>16.964054</td>\n",
       "    </tr>\n",
       "    <tr>\n",
       "      <th>5685</th>\n",
       "      <td>280</td>\n",
       "      <td>132.0</td>\n",
       "      <td>4004.214323</td>\n",
       "      <td>2014</td>\n",
       "      <td>10.059094</td>\n",
       "    </tr>\n",
       "    <tr>\n",
       "      <th>6735</th>\n",
       "      <td>210</td>\n",
       "      <td>152.0</td>\n",
       "      <td>2500.175687</td>\n",
       "      <td>2020</td>\n",
       "      <td>17.593237</td>\n",
       "    </tr>\n",
       "  </tbody>\n",
       "</table>\n",
       "<p>5822 rows × 5 columns</p>\n",
       "</div>"
      ],
      "text/plain": [
       "      engine_displacement  horsepower  vehicle_weight  model_year  \\\n",
       "483                   220       144.0     2535.887591        2009   \n",
       "7506                  160       141.0     2741.170484        2019   \n",
       "8795                  230       155.0     2471.880237        2017   \n",
       "1688                  150       206.0     3748.164469        2015   \n",
       "6217                  300       111.0     2135.716359        2006   \n",
       "...                   ...         ...             ...         ...   \n",
       "8387                  160       111.0     3038.134712        2002   \n",
       "7331                  160       157.0     2877.624938        2006   \n",
       "1696                  260       139.0     2606.972984        2009   \n",
       "5685                  280       132.0     4004.214323        2014   \n",
       "6735                  210       152.0     2500.175687        2020   \n",
       "\n",
       "      fuel_efficiency_mpg  \n",
       "483             16.642943  \n",
       "7506            16.298377  \n",
       "8795            18.591822  \n",
       "1688            11.818843  \n",
       "6217            19.402209  \n",
       "...                   ...  \n",
       "8387            14.203076  \n",
       "7331            15.278030  \n",
       "1696            16.964054  \n",
       "5685            10.059094  \n",
       "6735            17.593237  \n",
       "\n",
       "[5822 rows x 5 columns]"
      ]
     },
     "execution_count": 15,
     "metadata": {},
     "output_type": "execute_result"
    }
   ],
   "source": [
    "df_train"
   ]
  },
  {
   "cell_type": "code",
   "execution_count": 16,
   "id": "f2e5db56-77db-4463-aae2-511a39ea8138",
   "metadata": {},
   "outputs": [],
   "source": [
    "df_train.reset_index(drop = True, inplace = True)\n",
    "df_val.reset_index(drop = True, inplace = True)\n",
    "df_test.reset_index(drop = True, inplace = True)"
   ]
  },
  {
   "cell_type": "code",
   "execution_count": 17,
   "id": "07350d89-f661-45f2-b88e-7db7f22899d6",
   "metadata": {},
   "outputs": [
    {
     "data": {
      "text/html": [
       "<div>\n",
       "<style scoped>\n",
       "    .dataframe tbody tr th:only-of-type {\n",
       "        vertical-align: middle;\n",
       "    }\n",
       "\n",
       "    .dataframe tbody tr th {\n",
       "        vertical-align: top;\n",
       "    }\n",
       "\n",
       "    .dataframe thead th {\n",
       "        text-align: right;\n",
       "    }\n",
       "</style>\n",
       "<table border=\"1\" class=\"dataframe\">\n",
       "  <thead>\n",
       "    <tr style=\"text-align: right;\">\n",
       "      <th></th>\n",
       "      <th>engine_displacement</th>\n",
       "      <th>horsepower</th>\n",
       "      <th>vehicle_weight</th>\n",
       "      <th>model_year</th>\n",
       "      <th>fuel_efficiency_mpg</th>\n",
       "    </tr>\n",
       "  </thead>\n",
       "  <tbody>\n",
       "    <tr>\n",
       "      <th>0</th>\n",
       "      <td>220</td>\n",
       "      <td>144.0</td>\n",
       "      <td>2535.887591</td>\n",
       "      <td>2009</td>\n",
       "      <td>16.642943</td>\n",
       "    </tr>\n",
       "    <tr>\n",
       "      <th>1</th>\n",
       "      <td>160</td>\n",
       "      <td>141.0</td>\n",
       "      <td>2741.170484</td>\n",
       "      <td>2019</td>\n",
       "      <td>16.298377</td>\n",
       "    </tr>\n",
       "    <tr>\n",
       "      <th>2</th>\n",
       "      <td>230</td>\n",
       "      <td>155.0</td>\n",
       "      <td>2471.880237</td>\n",
       "      <td>2017</td>\n",
       "      <td>18.591822</td>\n",
       "    </tr>\n",
       "    <tr>\n",
       "      <th>3</th>\n",
       "      <td>150</td>\n",
       "      <td>206.0</td>\n",
       "      <td>3748.164469</td>\n",
       "      <td>2015</td>\n",
       "      <td>11.818843</td>\n",
       "    </tr>\n",
       "    <tr>\n",
       "      <th>4</th>\n",
       "      <td>300</td>\n",
       "      <td>111.0</td>\n",
       "      <td>2135.716359</td>\n",
       "      <td>2006</td>\n",
       "      <td>19.402209</td>\n",
       "    </tr>\n",
       "  </tbody>\n",
       "</table>\n",
       "</div>"
      ],
      "text/plain": [
       "   engine_displacement  horsepower  vehicle_weight  model_year  \\\n",
       "0                  220       144.0     2535.887591        2009   \n",
       "1                  160       141.0     2741.170484        2019   \n",
       "2                  230       155.0     2471.880237        2017   \n",
       "3                  150       206.0     3748.164469        2015   \n",
       "4                  300       111.0     2135.716359        2006   \n",
       "\n",
       "   fuel_efficiency_mpg  \n",
       "0            16.642943  \n",
       "1            16.298377  \n",
       "2            18.591822  \n",
       "3            11.818843  \n",
       "4            19.402209  "
      ]
     },
     "execution_count": 17,
     "metadata": {},
     "output_type": "execute_result"
    }
   ],
   "source": [
    "df_train.head()"
   ]
  },
  {
   "cell_type": "code",
   "execution_count": 18,
   "id": "1d5ed53a-429b-46ba-98f4-06fea153d8ce",
   "metadata": {},
   "outputs": [],
   "source": [
    "y_train = df_train.fuel_efficiency_mpg.values\n",
    "y_val = df_val.fuel_efficiency_mpg.values\n",
    "y_test = df_test.fuel_efficiency_mpg.values"
   ]
  },
  {
   "cell_type": "code",
   "execution_count": 19,
   "id": "96acf766-c8e5-430e-8281-89719733d23d",
   "metadata": {},
   "outputs": [
    {
     "data": {
      "text/plain": [
       "array([16.64294342, 16.29837715, 18.59182197, ..., 16.96405425,\n",
       "       10.05909406, 17.59323665], shape=(5822,))"
      ]
     },
     "execution_count": 19,
     "metadata": {},
     "output_type": "execute_result"
    }
   ],
   "source": [
    "y_train"
   ]
  },
  {
   "cell_type": "code",
   "execution_count": 20,
   "id": "d2100d78-afc2-4325-b32a-f7932c04969b",
   "metadata": {},
   "outputs": [],
   "source": [
    "del df_train[\"fuel_efficiency_mpg\"]\n",
    "del df_val[\"fuel_efficiency_mpg\"]\n",
    "del df_test[\"fuel_efficiency_mpg\"]"
   ]
  },
  {
   "cell_type": "markdown",
   "id": "cae322bd-c16a-4568-b458-6c105a61851f",
   "metadata": {},
   "source": [
    "**Question 3**\n",
    "\n",
    "* We need to deal with missing values for the column from Q1.\n",
    "* We have two options: fill it with 0 or with the mean of this variable.\n",
    "* Try both options. For each, train a linear regression model without regularization using the code from the lessons.\n",
    "* For computing the mean, use the training only!\n",
    "* Use the validation dataset to evaluate the models and compare the RMSE of each option.\n",
    "* Round the RMSE scores to 2 decimal digits using round(score, 2)\n",
    "* Which option gives better RMSE?"
   ]
  },
  {
   "cell_type": "code",
   "execution_count": 21,
   "id": "8516a724-ff1b-4453-bb74-7de054af1d9c",
   "metadata": {},
   "outputs": [],
   "source": [
    "mean_horsepower = df_train[\"horsepower\"].mean()"
   ]
  },
  {
   "cell_type": "code",
   "execution_count": 22,
   "id": "cc6a466f-0064-4ca2-b2cf-dc3b30194883",
   "metadata": {},
   "outputs": [
    {
     "data": {
      "text/plain": [
       "array([2000, 2001, 2002, 2003, 2004, 2005, 2006, 2007, 2008, 2009, 2010,\n",
       "       2011, 2012, 2013, 2014, 2015, 2016, 2017, 2018, 2019, 2020, 2021,\n",
       "       2022, 2023])"
      ]
     },
     "execution_count": 22,
     "metadata": {},
     "output_type": "execute_result"
    }
   ],
   "source": [
    "np.sort(df[\"model_year\"].unique())"
   ]
  },
  {
   "cell_type": "code",
   "execution_count": 23,
   "id": "ad8a32a2-456f-4851-9228-380f6189f56c",
   "metadata": {},
   "outputs": [],
   "source": [
    "base = ['engine_displacement', 'horsepower', 'vehicle_weight']\n",
    "\n",
    "def prepare_X(df, i):\n",
    "    df = df.copy()\n",
    "    df[\"age\"] = 2023 - df[\"model_year\"]\n",
    "    features = base + [\"age\"]\n",
    "    return df[features].fillna(i).values"
   ]
  },
  {
   "cell_type": "code",
   "execution_count": 24,
   "id": "d984551d-dbbd-455c-b004-28f0f4401012",
   "metadata": {},
   "outputs": [],
   "source": [
    "def train_linear_regression(X, y):\n",
    "    ones = np.ones(X.shape[0])\n",
    "    X = np.column_stack([ones, X])\n",
    "\n",
    "    XTX = X.T.dot(X)\n",
    "    XTX_inv = np.linalg.inv(XTX)\n",
    "    w_full = XTX_inv.dot(X.T).dot(y)\n",
    "\n",
    "    return w_full[0], w_full[1:]"
   ]
  },
  {
   "cell_type": "code",
   "execution_count": 25,
   "id": "2925f94a-b727-40ca-8276-041a6903d8d8",
   "metadata": {},
   "outputs": [],
   "source": [
    "def rmse(y, y_pred):\n",
    "    return np.sqrt(np.mean((y-y_pred)**2))"
   ]
  },
  {
   "cell_type": "code",
   "execution_count": 26,
   "id": "82db9490-2f1d-4da0-9816-77377cc6b644",
   "metadata": {},
   "outputs": [
    {
     "name": "stdout",
     "output_type": "stream",
     "text": [
      "0.5171866956560172\n"
     ]
    }
   ],
   "source": [
    "# Option 1: Fillna with 0\n",
    "X_train_t1 = prepare_X(df_train, 0)\n",
    "w0_t1, w_t1 = train_linear_regression(X_train_t1, y_train)\n",
    "\n",
    "X_val_t1 = prepare_X(df_val, 0)\n",
    "y_pred_t1 = w0_t1 + X_val_t1.dot(w_t1)\n",
    "score_t1 = rmse(y_val, y_pred_t1)\n",
    "print(score_t1)"
   ]
  },
  {
   "cell_type": "code",
   "execution_count": 27,
   "id": "bd25531b-5efe-4c85-aa6d-8810d1b690b0",
   "metadata": {},
   "outputs": [
    {
     "name": "stdout",
     "output_type": "stream",
     "text": [
      "0.4635366017460088\n"
     ]
    }
   ],
   "source": [
    "# Option 2: Fillna with mean\n",
    "X_train_t2 = prepare_X(df_train, mean_horsepower)\n",
    "w0_t2, w_t2 = train_linear_regression(X_train_t2, y_train)\n",
    "\n",
    "X_val_t2 = prepare_X(df_val, mean_horsepower)\n",
    "y_pred_t2 = w0_t2 + X_val_t2.dot(w_t2)\n",
    "score_t2 = rmse(y_val, y_pred_t2)\n",
    "print(score_t2)"
   ]
  },
  {
   "cell_type": "markdown",
   "id": "cbba5f80-ad97-461c-84f7-9cad1ffee465",
   "metadata": {},
   "source": [
    "A3: Option with mean gives better RMSE since it has a lower RMSE than that of option with 0"
   ]
  },
  {
   "cell_type": "markdown",
   "id": "31d3893d-bd80-4503-97d0-f7d22f550326",
   "metadata": {},
   "source": [
    "**Q4.**\n",
    "+ Now let's train a regularized linear regression.\n",
    "+ For this question, fill the NAs with 0.\n",
    "+ Try different values of r from this list: [0, 0.01, 1, 10, 100].\n",
    "+ Use RMSE to evaluate the model on the validation dataset.\n",
    "+ Round the RMSE scores to 2 decimal digits.\n",
    "+ Which r gives the best RMSE?"
   ]
  },
  {
   "cell_type": "code",
   "execution_count": 28,
   "id": "1f2662d3-5332-4d51-bac6-d660aceff20c",
   "metadata": {},
   "outputs": [],
   "source": [
    "def train_linear_regression_reg(X, y, r):\n",
    "    ones = np.ones(X.shape[0])\n",
    "    X = np.column_stack([ones, X])\n",
    "\n",
    "    XTX = X.T.dot(X)\n",
    "    XTX = XTX + r * np.eye(XTX.shape[0])\n",
    "    XTX_inv = np.linalg.inv(XTX)\n",
    "    w_full = XTX_inv.dot(X.T).dot(y)\n",
    "\n",
    "    return w_full[0], w_full[1:]"
   ]
  },
  {
   "cell_type": "code",
   "execution_count": 29,
   "id": "78021ab7-3c70-4faa-aaa3-7ca066d1c35e",
   "metadata": {},
   "outputs": [
    {
     "name": "stdout",
     "output_type": "stream",
     "text": [
      "0 0.52\n",
      "0.01 0.52\n",
      "1 0.52\n",
      "10 0.64\n",
      "100 2.06\n"
     ]
    }
   ],
   "source": [
    "for r in [0, 0.01, 1, 10, 100]:\n",
    "    X_train = prepare_X(df_train,0)\n",
    "    w0, w = train_linear_regression_reg(X_train, y_train, r)\n",
    "    \n",
    "    X_val = prepare_X(df_val,0)\n",
    "    y_pred = w0 + X_val.dot(w)\n",
    "    score = rmse(y_val, y_pred)\n",
    "    print(r, round(score, 2))"
   ]
  },
  {
   "cell_type": "markdown",
   "id": "4d3a0564-4d23-4539-b02b-1734cf09889e",
   "metadata": {},
   "source": [
    "**Q5.**\n",
    "\n",
    "+ We used seed 42 for splitting the data. Let's find out how selecting the seed influences our score.\n",
    "+ Try different seed values: [0, 1, 2, 3, 4, 5, 6, 7, 8, 9].\n",
    "+ For each seed, do the train/validation/test split with 60%/20%/20% distribution.\n",
    "+ Fill the missing values with 0 and train a model without regularization.\n",
    "+ For each seed, evaluate the model on the validation dataset and collect the RMSE scores.\n",
    "+ What's the standard deviation of all the scores? To compute the standard deviation, use np.std.\n",
    "+ Round the result to 3 decimal digits (round(std, 3))\n",
    "  \n",
    "What's the value of std?"
   ]
  },
  {
   "cell_type": "code",
   "execution_count": 30,
   "id": "ac9ffa77-6837-464b-97c1-dd052e56292d",
   "metadata": {},
   "outputs": [],
   "source": [
    "seeds = [0, 1, 2, 3, 4, 5, 6, 7, 8, 9]\n",
    "\n",
    "score_list = []\n",
    "for seed in seeds:\n",
    "    np.random.seed(seed)\n",
    "    idx = np.arange(n)\n",
    "    np.random.shuffle(idx)\n",
    "\n",
    "    df_train = df.iloc[idx[:n_train]]\n",
    "    df_val = df.iloc[idx[n_train: n_train + n_val]]\n",
    "    df_test = df.iloc[idx[n_train + n_val:]]\n",
    "\n",
    "    y_train = df_train.fuel_efficiency_mpg.values\n",
    "    y_val = df_val.fuel_efficiency_mpg.values\n",
    "    y_test = df_test.fuel_efficiency_mpg.values\n",
    "\n",
    "    del df_train[\"fuel_efficiency_mpg\"]\n",
    "    del df_val[\"fuel_efficiency_mpg\"]\n",
    "    del df_test[\"fuel_efficiency_mpg\"]\n",
    "\n",
    "    X_train = prepare_X(df_train,0)\n",
    "    w0, w = train_linear_regression(X_train, y_train)\n",
    "    \n",
    "    X_val = prepare_X(df_val,0)\n",
    "    y_pred = w0 + X_val.dot(w)\n",
    "    score = rmse(y_val, y_pred)\n",
    "    score_list.append(score)"
   ]
  },
  {
   "cell_type": "code",
   "execution_count": 31,
   "id": "b7a7a78e-def8-4147-95f0-98f606ddaaa1",
   "metadata": {},
   "outputs": [
    {
     "data": {
      "text/plain": [
       "np.float64(0.007)"
      ]
     },
     "execution_count": 31,
     "metadata": {},
     "output_type": "execute_result"
    }
   ],
   "source": [
    "round(np.std(score_list),3)"
   ]
  },
  {
   "cell_type": "markdown",
   "id": "fe1ccb3c-bab6-485b-b06a-6adafb1484a7",
   "metadata": {},
   "source": [
    "**Q6.**\n",
    "\n",
    "+ Split the dataset like previously, use seed 9.\n",
    "+ Combine train and validation datasets.\n",
    "+ Fill the missing values with 0 and train a model with r=0.001.\n",
    "+ What's the RMSE on the test dataset?"
   ]
  },
  {
   "cell_type": "code",
   "execution_count": 32,
   "id": "dd24c251-d83d-453f-b49d-99c83de3b746",
   "metadata": {},
   "outputs": [
    {
     "data": {
      "text/html": [
       "<div>\n",
       "<style scoped>\n",
       "    .dataframe tbody tr th:only-of-type {\n",
       "        vertical-align: middle;\n",
       "    }\n",
       "\n",
       "    .dataframe tbody tr th {\n",
       "        vertical-align: top;\n",
       "    }\n",
       "\n",
       "    .dataframe thead th {\n",
       "        text-align: right;\n",
       "    }\n",
       "</style>\n",
       "<table border=\"1\" class=\"dataframe\">\n",
       "  <thead>\n",
       "    <tr style=\"text-align: right;\">\n",
       "      <th></th>\n",
       "      <th>engine_displacement</th>\n",
       "      <th>horsepower</th>\n",
       "      <th>vehicle_weight</th>\n",
       "      <th>model_year</th>\n",
       "      <th>fuel_efficiency_mpg</th>\n",
       "    </tr>\n",
       "  </thead>\n",
       "  <tbody>\n",
       "    <tr>\n",
       "      <th>9066</th>\n",
       "      <td>240</td>\n",
       "      <td>136.0</td>\n",
       "      <td>4050.512290</td>\n",
       "      <td>2006</td>\n",
       "      <td>10.304700</td>\n",
       "    </tr>\n",
       "    <tr>\n",
       "      <th>3073</th>\n",
       "      <td>190</td>\n",
       "      <td>141.0</td>\n",
       "      <td>3195.866942</td>\n",
       "      <td>2017</td>\n",
       "      <td>13.479434</td>\n",
       "    </tr>\n",
       "    <tr>\n",
       "      <th>2476</th>\n",
       "      <td>200</td>\n",
       "      <td>184.0</td>\n",
       "      <td>3006.164370</td>\n",
       "      <td>2017</td>\n",
       "      <td>16.190653</td>\n",
       "    </tr>\n",
       "    <tr>\n",
       "      <th>658</th>\n",
       "      <td>200</td>\n",
       "      <td>NaN</td>\n",
       "      <td>2947.143980</td>\n",
       "      <td>2022</td>\n",
       "      <td>15.446503</td>\n",
       "    </tr>\n",
       "    <tr>\n",
       "      <th>954</th>\n",
       "      <td>250</td>\n",
       "      <td>132.0</td>\n",
       "      <td>3114.371978</td>\n",
       "      <td>2001</td>\n",
       "      <td>14.472172</td>\n",
       "    </tr>\n",
       "    <tr>\n",
       "      <th>...</th>\n",
       "      <td>...</td>\n",
       "      <td>...</td>\n",
       "      <td>...</td>\n",
       "      <td>...</td>\n",
       "      <td>...</td>\n",
       "    </tr>\n",
       "    <tr>\n",
       "      <th>9202</th>\n",
       "      <td>230</td>\n",
       "      <td>179.0</td>\n",
       "      <td>2717.552294</td>\n",
       "      <td>2003</td>\n",
       "      <td>17.491551</td>\n",
       "    </tr>\n",
       "    <tr>\n",
       "      <th>6449</th>\n",
       "      <td>170</td>\n",
       "      <td>115.0</td>\n",
       "      <td>2760.369106</td>\n",
       "      <td>2022</td>\n",
       "      <td>15.630344</td>\n",
       "    </tr>\n",
       "    <tr>\n",
       "      <th>8083</th>\n",
       "      <td>200</td>\n",
       "      <td>167.0</td>\n",
       "      <td>3470.715658</td>\n",
       "      <td>2003</td>\n",
       "      <td>12.850141</td>\n",
       "    </tr>\n",
       "    <tr>\n",
       "      <th>6182</th>\n",
       "      <td>180</td>\n",
       "      <td>144.0</td>\n",
       "      <td>3605.310144</td>\n",
       "      <td>2016</td>\n",
       "      <td>11.681418</td>\n",
       "    </tr>\n",
       "    <tr>\n",
       "      <th>3886</th>\n",
       "      <td>180</td>\n",
       "      <td>154.0</td>\n",
       "      <td>3346.965671</td>\n",
       "      <td>2018</td>\n",
       "      <td>13.678140</td>\n",
       "    </tr>\n",
       "  </tbody>\n",
       "</table>\n",
       "<p>7762 rows × 5 columns</p>\n",
       "</div>"
      ],
      "text/plain": [
       "      engine_displacement  horsepower  vehicle_weight  model_year  \\\n",
       "9066                  240       136.0     4050.512290        2006   \n",
       "3073                  190       141.0     3195.866942        2017   \n",
       "2476                  200       184.0     3006.164370        2017   \n",
       "658                   200         NaN     2947.143980        2022   \n",
       "954                   250       132.0     3114.371978        2001   \n",
       "...                   ...         ...             ...         ...   \n",
       "9202                  230       179.0     2717.552294        2003   \n",
       "6449                  170       115.0     2760.369106        2022   \n",
       "8083                  200       167.0     3470.715658        2003   \n",
       "6182                  180       144.0     3605.310144        2016   \n",
       "3886                  180       154.0     3346.965671        2018   \n",
       "\n",
       "      fuel_efficiency_mpg  \n",
       "9066            10.304700  \n",
       "3073            13.479434  \n",
       "2476            16.190653  \n",
       "658             15.446503  \n",
       "954             14.472172  \n",
       "...                   ...  \n",
       "9202            17.491551  \n",
       "6449            15.630344  \n",
       "8083            12.850141  \n",
       "6182            11.681418  \n",
       "3886            13.678140  \n",
       "\n",
       "[7762 rows x 5 columns]"
      ]
     },
     "execution_count": 32,
     "metadata": {},
     "output_type": "execute_result"
    }
   ],
   "source": [
    "np.random.seed(9)\n",
    "idx = np.arange(n)\n",
    "np.random.shuffle(idx)\n",
    "\n",
    "df_train = df.iloc[idx[:n_train]]\n",
    "df_val = df.iloc[idx[n_train: n_train + n_val]]\n",
    "df_test = df.iloc[idx[n_train + n_val:]]\n",
    "\n",
    "y_train = df_train.fuel_efficiency_mpg.values\n",
    "y_val = df_val.fuel_efficiency_mpg.values\n",
    "y_test = df_test.fuel_efficiency_mpg.values\n",
    "\n",
    "df_full_train = pd.concat([df_train, df_val])\n",
    "df_full_train"
   ]
  },
  {
   "cell_type": "code",
   "execution_count": 33,
   "id": "679616da-f268-4054-bb9c-1c34d83934f7",
   "metadata": {},
   "outputs": [
    {
     "data": {
      "text/html": [
       "<div>\n",
       "<style scoped>\n",
       "    .dataframe tbody tr th:only-of-type {\n",
       "        vertical-align: middle;\n",
       "    }\n",
       "\n",
       "    .dataframe tbody tr th {\n",
       "        vertical-align: top;\n",
       "    }\n",
       "\n",
       "    .dataframe thead th {\n",
       "        text-align: right;\n",
       "    }\n",
       "</style>\n",
       "<table border=\"1\" class=\"dataframe\">\n",
       "  <thead>\n",
       "    <tr style=\"text-align: right;\">\n",
       "      <th></th>\n",
       "      <th>engine_displacement</th>\n",
       "      <th>horsepower</th>\n",
       "      <th>vehicle_weight</th>\n",
       "      <th>model_year</th>\n",
       "      <th>fuel_efficiency_mpg</th>\n",
       "    </tr>\n",
       "  </thead>\n",
       "  <tbody>\n",
       "    <tr>\n",
       "      <th>0</th>\n",
       "      <td>240</td>\n",
       "      <td>136.0</td>\n",
       "      <td>4050.512290</td>\n",
       "      <td>2006</td>\n",
       "      <td>10.304700</td>\n",
       "    </tr>\n",
       "    <tr>\n",
       "      <th>1</th>\n",
       "      <td>190</td>\n",
       "      <td>141.0</td>\n",
       "      <td>3195.866942</td>\n",
       "      <td>2017</td>\n",
       "      <td>13.479434</td>\n",
       "    </tr>\n",
       "    <tr>\n",
       "      <th>2</th>\n",
       "      <td>200</td>\n",
       "      <td>184.0</td>\n",
       "      <td>3006.164370</td>\n",
       "      <td>2017</td>\n",
       "      <td>16.190653</td>\n",
       "    </tr>\n",
       "    <tr>\n",
       "      <th>3</th>\n",
       "      <td>200</td>\n",
       "      <td>NaN</td>\n",
       "      <td>2947.143980</td>\n",
       "      <td>2022</td>\n",
       "      <td>15.446503</td>\n",
       "    </tr>\n",
       "    <tr>\n",
       "      <th>4</th>\n",
       "      <td>250</td>\n",
       "      <td>132.0</td>\n",
       "      <td>3114.371978</td>\n",
       "      <td>2001</td>\n",
       "      <td>14.472172</td>\n",
       "    </tr>\n",
       "  </tbody>\n",
       "</table>\n",
       "</div>"
      ],
      "text/plain": [
       "   engine_displacement  horsepower  vehicle_weight  model_year  \\\n",
       "0                  240       136.0     4050.512290        2006   \n",
       "1                  190       141.0     3195.866942        2017   \n",
       "2                  200       184.0     3006.164370        2017   \n",
       "3                  200         NaN     2947.143980        2022   \n",
       "4                  250       132.0     3114.371978        2001   \n",
       "\n",
       "   fuel_efficiency_mpg  \n",
       "0            10.304700  \n",
       "1            13.479434  \n",
       "2            16.190653  \n",
       "3            15.446503  \n",
       "4            14.472172  "
      ]
     },
     "execution_count": 33,
     "metadata": {},
     "output_type": "execute_result"
    }
   ],
   "source": [
    "df_full_train.reset_index(drop=True, inplace=True)\n",
    "df_full_train.head()"
   ]
  },
  {
   "cell_type": "code",
   "execution_count": 34,
   "id": "971a159c-f62e-48a2-a543-2cf5acff135c",
   "metadata": {},
   "outputs": [
    {
     "data": {
      "text/plain": [
       "array([10.30469994, 13.47943378, 16.19065297, ..., 12.85014104,\n",
       "       11.68141813, 13.67814034], shape=(7762,))"
      ]
     },
     "execution_count": 34,
     "metadata": {},
     "output_type": "execute_result"
    }
   ],
   "source": [
    "y_full_train = np.concatenate([y_train, y_val])\n",
    "y_full_train"
   ]
  },
  {
   "cell_type": "code",
   "execution_count": 35,
   "id": "ae1628da-0c4f-484b-b605-b129acf5440c",
   "metadata": {},
   "outputs": [
    {
     "name": "stdout",
     "output_type": "stream",
     "text": [
      "0.515491532483234\n"
     ]
    }
   ],
   "source": [
    "X_full_train = prepare_X(df_full_train,0)\n",
    "w0, w = train_linear_regression(X_full_train, y_full_train)\n",
    "    \n",
    "X_test = prepare_X(df_test,0)\n",
    "y_pred = w0 + X_test.dot(w)\n",
    "score = rmse(y_test, y_pred)\n",
    "print(score)"
   ]
  },
  {
   "cell_type": "code",
   "execution_count": null,
   "id": "4d47c27d-3084-4c9c-847a-d5a5b38dba80",
   "metadata": {},
   "outputs": [],
   "source": []
  }
 ],
 "metadata": {
  "kernelspec": {
   "display_name": "Python 3 (ipykernel)",
   "language": "python",
   "name": "python3"
  },
  "language_info": {
   "codemirror_mode": {
    "name": "ipython",
    "version": 3
   },
   "file_extension": ".py",
   "mimetype": "text/x-python",
   "name": "python",
   "nbconvert_exporter": "python",
   "pygments_lexer": "ipython3",
   "version": "3.12.1"
  }
 },
 "nbformat": 4,
 "nbformat_minor": 5
}
